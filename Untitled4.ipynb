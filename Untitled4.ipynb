{
  "nbformat": 4,
  "nbformat_minor": 0,
  "metadata": {
    "colab": {
      "name": "Untitled4.ipynb",
      "provenance": [],
      "collapsed_sections": [],
      "authorship_tag": "ABX9TyPY12Pn8CEPHw9VOYXWt3z+",
      "include_colab_link": true
    },
    "kernelspec": {
      "name": "python3",
      "display_name": "Python 3"
    },
    "language_info": {
      "name": "python"
    }
  },
  "cells": [
    {
      "cell_type": "markdown",
      "metadata": {
        "id": "view-in-github",
        "colab_type": "text"
      },
      "source": [
        "<a href=\"https://colab.research.google.com/github/Gowtham1211/python/blob/main/Untitled4.ipynb\" target=\"_parent\"><img src=\"https://colab.research.google.com/assets/colab-badge.svg\" alt=\"Open In Colab\"/></a>"
      ]
    },
    {
      "cell_type": "code",
      "execution_count": null,
      "metadata": {
        "id": "hIYjw7VCBqLv",
        "outputId": "f22fefd5-4d2c-4aa8-9672-6bc2a1233fbb",
        "colab": {
          "base_uri": "https://localhost:8080/"
        }
      },
      "outputs": [
        {
          "output_type": "stream",
          "name": "stdout",
          "text": [
            "choice1:1:Add,2 Sub,3:Div,:MUL,5:Quit\n",
            "enter the choice of operation:4\n",
            "you have chose mulitplication option:\n",
            "enter the value for A :5\n",
            "enter the value for B :55\n",
            "the Result 5 * b'=' 275\n"
          ]
        }
      ],
      "source": [
        "print (\"choice1:1:Add,2 Sub,3:Div,:MUL,5:Quit\")\n",
        "n1=input(\"enter the choice of operation:\")\n",
        "n=int(n1)\n",
        "if (n == 1):\n",
        "    print(\"you have chose addition option:\")\n",
        "    a1=input(\"enter the value for A :\")\n",
        "    b1=input(\"enter the value for B :\")\n",
        "    a=int(a1)\n",
        "    b=int(b1)\n",
        "    c= a + b\n",
        "    print(\"the Result\",a,\"+\",b\"=\",c)\n",
        "elif (n == 2):\n",
        "    print(\"you have chose subtraction option:\")\n",
        "    a1=input(\"enter the value for A :\")\n",
        "    b1=input(\"enter the value for B :\")\n",
        "    a=int(a1)\n",
        "    b=int(b1)\n",
        "    c= a - b\n",
        "    print(\"the Result\",a,\"-\",b\"=\",c)\n",
        "elif (n == 3):\n",
        "    print(\"you have chose division option:\")\n",
        "    a1=input(\"enter the value for A :\")\n",
        "    b1=input(\"enter the value for B :\")\n",
        "    a=int(a1)\n",
        "    b=int(b1)\n",
        "    c= a / b\n",
        "    print(\"the Result\",a,\"/\",b\"=\",c)\n",
        "elif (n == 4):\n",
        "    print(\"you have chose mulitplication option:\")\n",
        "    a1=input(\"enter the value for A :\")\n",
        "    b1=input(\"enter the value for B :\")\n",
        "    a=int(a1)\n",
        "    b=int(b1)\n",
        "    c= a * b\n",
        "    print(\"the Result\",a,\"*\",b\"=\",c)\n",
        "elif (n == 5):\n",
        "    print(\"you have given a wrong:\",n)\n",
        "    exit()    "
      ]
    },
    {
      "cell_type": "code",
      "source": [
        "#fibonacci series\n",
        "print(\"Fibonacci Series\")\n",
        "n1=input(\"Enter the number: \")\n",
        "n=int(n1)\n",
        "if(n>0):\n",
        "  f=0\n",
        "  s=1\n",
        "  i=0\n",
        "  next=0\n",
        "  while(1):\n",
        "    print(\"\\n\\n*******************************************\")\n",
        "    for i in range(n+1):\n",
        "      if(i<=1):\n",
        "        print(i)\n",
        "      else:\n",
        "        next=f+s\n",
        "        f=s\n",
        "        s=next\n",
        "        print(next)\n",
        "    i=i+1\n",
        "    break\n",
        "else:\n",
        "  print(\"you have entered wrong input\",n)\n",
        "  exit()"
      ],
      "metadata": {
        "id": "w1_D9RB0KYga"
      },
      "execution_count": null,
      "outputs": []
    },
    {
      "cell_type": "code",
      "source": [
        "#arithmetic operation\n",
        "value1=eval(input(\"Enter the first number: \"))\n",
        "value2=eval(input(\"Enter the second number: \"))\n",
        "sum=value1+value2\n",
        "print(value1,'+',value2,'=',sum)"
      ],
      "metadata": {
        "id": "Gy0QKrDwXf7I"
      },
      "execution_count": null,
      "outputs": []
    },
    {
      "cell_type": "code",
      "source": [
        "#arithmetic operators\n",
        "x=30\n",
        "y=24\n",
        "print('x+y=',x+y)\n",
        "print('x-y=',x-y)\n",
        "print('x*y=',x*y)\n",
        "print('x/y=',x/y)\n",
        "print('x//y=',x//y)\n",
        "print('x**y=',x**y)"
      ],
      "metadata": {
        "id": "kMF8OQAZXf98"
      },
      "execution_count": null,
      "outputs": []
    },
    {
      "cell_type": "code",
      "source": [
        "#comparsion operators\n",
        "x=10\n",
        "y=5\n",
        "print(\"x > y is\",x>y)\n",
        "print(\"x < y is\",x<y)\n",
        "print(\"x == y is\",x==y)\n",
        "print(\"x != y is\",x!=y)\n",
        "print(\"x >= y is\",x>=y)\n",
        "print(\"x <= y is\",x<=y)"
      ],
      "metadata": {
        "id": "8AgEBnOXXgAM"
      },
      "execution_count": null,
      "outputs": []
    },
    {
      "cell_type": "code",
      "source": [
        "#logical operators\n",
        "x=True\n",
        "y=False\n",
        "print(\"x and y is\", x and y)\n",
        "print(\"x or y is\", x or y)\n",
        "print(\"not x is\",  not x)"
      ],
      "metadata": {
        "id": "O7sGWwi1XnVr"
      },
      "execution_count": null,
      "outputs": []
    },
    {
      "cell_type": "code",
      "source": [
        "#identity operators\n",
        "x1=5\n",
        "y1=5\n",
        "x2='Hello'\n",
        "y2='Hello'\n",
        "x3=[1,2,3]\n",
        "y3=[1,2,3]\n",
        "print(x1 is not y1)\n",
        "print(x2 is y2)\n",
        "print(x3 is not y3)"
      ],
      "metadata": {
        "id": "BZTxvohtXnYj"
      },
      "execution_count": null,
      "outputs": []
    },
    {
      "cell_type": "code",
      "source": [
        "#membership operators\n",
        "x='Hello World'\n",
        "y={1:'a',2:'b'}\n",
        "print('E' in x)\n",
        "print(\"hello\" not in x)\n",
        "print(2 in y)\n",
        "print('a' in y)"
      ],
      "metadata": {
        "id": "y-CZ_sN6Xnbb"
      },
      "execution_count": null,
      "outputs": []
    },
    {
      "cell_type": "code",
      "source": [
        "#shift operators\n",
        "a=15\n",
        "b=-15\n",
        "print(\"a>>1=\",a>>1)\n",
        "print(\"b>>1=\",b>>1)"
      ],
      "metadata": {
        "id": "Ua649Cz8Xw8_"
      },
      "execution_count": null,
      "outputs": []
    }
  ]
}