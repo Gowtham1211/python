{
  "nbformat": 4,
  "nbformat_minor": 0,
  "metadata": {
    "colab": {
      "name": "Untitled4.ipynb",
      "provenance": [],
      "collapsed_sections": [],
      "authorship_tag": "ABX9TyPVI62Gr1xSbEzvqsUuYNFq",
      "include_colab_link": true
    },
    "kernelspec": {
      "name": "python3",
      "display_name": "Python 3"
    },
    "language_info": {
      "name": "python"
    }
  },
  "cells": [
    {
      "cell_type": "markdown",
      "metadata": {
        "id": "view-in-github",
        "colab_type": "text"
      },
      "source": [
        "<a href=\"https://colab.research.google.com/github/Gowtham1211/python/blob/main/Untitled4.ipynb\" target=\"_parent\"><img src=\"https://colab.research.google.com/assets/colab-badge.svg\" alt=\"Open In Colab\"/></a>"
      ]
    },
    {
      "cell_type": "code",
      "execution_count": 6,
      "metadata": {
        "id": "hIYjw7VCBqLv",
        "colab": {
          "base_uri": "https://localhost:8080/"
        },
        "outputId": "f22fefd5-4d2c-4aa8-9672-6bc2a1233fbb"
      },
      "outputs": [
        {
          "output_type": "stream",
          "name": "stdout",
          "text": [
            "choice1:1:Add,2 Sub,3:Div,:MUL,5:Quit\n",
            "enter the choice of operation:4\n",
            "you have chose mulitplication option:\n",
            "enter the value for A :5\n",
            "enter the value for B :55\n",
            "the Result 5 * b'=' 275\n"
          ]
        }
      ],
      "source": [
        "print (\"choice1:1:Add,2 Sub,3:Div,:MUL,5:Quit\")\n",
        "n1=input(\"enter the choice of operation:\")\n",
        "n=int(n1)\n",
        "if (n == 1):\n",
        "    print(\"you have chose addition option:\")\n",
        "    a1=input(\"enter the value for A :\")\n",
        "    b1=input(\"enter the value for B :\")\n",
        "    a=int(a1)\n",
        "    b=int(b1)\n",
        "    c= a + b\n",
        "    print(\"the Result\",a,\"+\",b\"=\",c)\n",
        "elif (n == 2):\n",
        "    print(\"you have chose subtraction option:\")\n",
        "    a1=input(\"enter the value for A :\")\n",
        "    b1=input(\"enter the value for B :\")\n",
        "    a=int(a1)\n",
        "    b=int(b1)\n",
        "    c= a - b\n",
        "    print(\"the Result\",a,\"-\",b\"=\",c)\n",
        "elif (n == 3):\n",
        "    print(\"you have chose division option:\")\n",
        "    a1=input(\"enter the value for A :\")\n",
        "    b1=input(\"enter the value for B :\")\n",
        "    a=int(a1)\n",
        "    b=int(b1)\n",
        "    c= a / b\n",
        "    print(\"the Result\",a,\"/\",b\"=\",c)\n",
        "elif (n == 4):\n",
        "    print(\"you have chose mulitplication option:\")\n",
        "    a1=input(\"enter the value for A :\")\n",
        "    b1=input(\"enter the value for B :\")\n",
        "    a=int(a1)\n",
        "    b=int(b1)\n",
        "    c= a * b\n",
        "    print(\"the Result\",a,\"*\",b\"=\",c)\n",
        "elif (n == 5):\n",
        "    print(\"you have given a wrong:\",n)\n",
        "    exit()    "
      ]
    },
    {
      "cell_type": "code",
      "source": [
        ""
      ],
      "metadata": {
        "id": "w1_D9RB0KYga"
      },
      "execution_count": null,
      "outputs": []
    }
  ]
}