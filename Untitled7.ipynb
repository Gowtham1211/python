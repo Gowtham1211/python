{
  "nbformat": 4,
  "nbformat_minor": 0,
  "metadata": {
    "colab": {
      "name": "Untitled7.ipynb",
      "provenance": [],
      "authorship_tag": "ABX9TyOZmOyUU23BHOy8BqIH5PDT",
      "include_colab_link": true
    },
    "kernelspec": {
      "name": "python3",
      "display_name": "Python 3"
    },
    "language_info": {
      "name": "python"
    }
  },
  "cells": [
    {
      "cell_type": "markdown",
      "metadata": {
        "id": "view-in-github",
        "colab_type": "text"
      },
      "source": [
        "<a href=\"https://colab.research.google.com/github/Gowtham1211/python/blob/main/Untitled7.ipynb\" target=\"_parent\"><img src=\"https://colab.research.google.com/assets/colab-badge.svg\" alt=\"Open In Colab\"/></a>"
      ]
    },
    {
      "cell_type": "code",
      "execution_count": 2,
      "metadata": {
        "id": "VRAW0xZMZEOF"
      },
      "outputs": [],
      "source": [
        "def printme( str ):\n",
        "  \"This prints a passed string into this function \"\n",
        "  print (str)\n",
        "  return"
      ]
    },
    {
      "cell_type": "code",
      "source": [
        "def printme( str ):\n",
        "  \"This prints a passed string into this function \"\n",
        "  print( str ) \n",
        "  return ;\n",
        "\n",
        "printme( \"I'm first call to user defined function!\")\n",
        "printme(\"Again second call to the same function\")"
      ],
      "metadata": {
        "colab": {
          "base_uri": "https://localhost:8080/"
        },
        "id": "ztQjOomUq46k",
        "outputId": "1696836e-6c08-43a5-c241-4b08230be186"
      },
      "execution_count": 4,
      "outputs": [
        {
          "output_type": "stream",
          "name": "stdout",
          "text": [
            "I'm first call to user defined function!\n",
            "Again second call to the same function\n"
          ]
        }
      ]
    },
    {
      "cell_type": "code",
      "source": [
        "def changeme ( mylist ):\n",
        "  \" This changes a passed list into this function \"\n",
        "  mylist.append ([1,2,3,4]);\n",
        "  print (\"Values inside the function \" ), mylist\n",
        "  return \n",
        "\n",
        "mylist = [10,20,30];\n",
        "changeme( mylist);\n",
        "print (\"values outside the function \"), mylist "
      ],
      "metadata": {
        "colab": {
          "base_uri": "https://localhost:8080/"
        },
        "id": "jWyuvnwBsCoE",
        "outputId": "065cdbbb-1140-495e-e63a-0498f0e4ada8"
      },
      "execution_count": 6,
      "outputs": [
        {
          "output_type": "stream",
          "name": "stdout",
          "text": [
            "Values inside the function \n",
            "values outside the function \n"
          ]
        },
        {
          "output_type": "execute_result",
          "data": {
            "text/plain": [
              "(None, [10, 20, 30, [1, 2, 3, 4]])"
            ]
          },
          "metadata": {},
          "execution_count": 6
        }
      ]
    },
    {
      "cell_type": "code",
      "source": [
        "def printme( str ):\n",
        "  \"this prints a passed string into this function\"\n",
        "  print (str)\n",
        "  return;\n",
        "  printme()"
      ],
      "metadata": {
        "id": "S3UyBE2-thqE"
      },
      "execution_count": 9,
      "outputs": []
    },
    {
      "cell_type": "code",
      "source": [
        "def printme( str ):\n",
        "  \"this print a passed string into this function\"\n",
        "  print (str)\n",
        "  return;\n",
        "printme( str = \"my string\")"
      ],
      "metadata": {
        "colab": {
          "base_uri": "https://localhost:8080/"
        },
        "id": "WzpPjYo8u3Qb",
        "outputId": "47c866c4-3270-418e-ce82-50c0f18edd89"
      },
      "execution_count": 11,
      "outputs": [
        {
          "output_type": "stream",
          "name": "stdout",
          "text": [
            "my string\n"
          ]
        }
      ]
    },
    {
      "cell_type": "code",
      "source": [
        ""
      ],
      "metadata": {
        "id": "AweAmVHBvlKT"
      },
      "execution_count": null,
      "outputs": []
    },
    {
      "cell_type": "code",
      "source": [
        ""
      ],
      "metadata": {
        "id": "H_mDXwVNqxFz"
      },
      "execution_count": null,
      "outputs": []
    }
  ]
}