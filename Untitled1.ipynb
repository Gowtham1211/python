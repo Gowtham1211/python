{
  "nbformat": 4,
  "nbformat_minor": 0,
  "metadata": {
    "colab": {
      "name": "Untitled1.ipynb",
      "provenance": [],
      "authorship_tag": "ABX9TyP93RdojQHCn8du7B0djiTW",
      "include_colab_link": true
    },
    "kernelspec": {
      "name": "python3",
      "display_name": "Python 3"
    },
    "language_info": {
      "name": "python"
    }
  },
  "cells": [
    {
      "cell_type": "markdown",
      "metadata": {
        "id": "view-in-github",
        "colab_type": "text"
      },
      "source": [
        "<a href=\"https://colab.research.google.com/github/Gowtham1211/python/blob/main/Untitled1.ipynb\" target=\"_parent\"><img src=\"https://colab.research.google.com/assets/colab-badge.svg\" alt=\"Open In Colab\"/></a>"
      ]
    },
    {
      "cell_type": "code",
      "execution_count": 10,
      "metadata": {
        "colab": {
          "base_uri": "https://localhost:8080/"
        },
        "id": "jdEDiNAb5_rs",
        "outputId": "0ef36b12-80bf-4f62-d90b-f5e855b6a9a6"
      },
      "outputs": [
        {
          "output_type": "stream",
          "name": "stdout",
          "text": [
            "the sum of 1.5 and 6.3 is 7.8\n"
          ]
        }
      ],
      "source": [
        "num1 =1.5\n",
        "num2=6.3\n",
        "sum=num1 + num2\n",
        "print('the sum of {0} and {1} is {2}'.format(num1,num2,sum))\n",
        " "
      ]
    },
    {
      "cell_type": "code",
      "source": [
        "num1=input('enter first number:')\n",
        "num2=input('enter second number:')\n",
        "sum = float(num1) + float(num2)\n",
        "print('thesum of {0} and {2}'.format(num1,num2,sum))\n"
      ],
      "metadata": {
        "colab": {
          "base_uri": "https://localhost:8080/"
        },
        "id": "bDXCMn3R9CR9",
        "outputId": "ec675b58-600c-4b38-b43f-056e3515cc7d"
      },
      "execution_count": 14,
      "outputs": [
        {
          "output_type": "stream",
          "name": "stdout",
          "text": [
            "enter first number:1.5\n",
            "enter second number:6.3\n",
            "thesum of 1.5 and 7.8\n"
          ]
        }
      ]
    },
    {
      "cell_type": "code",
      "source": [
        "num=8\n",
        "num_sqrt=num **0.5\n",
        "print('the square root of %0.3f is %0.3f'%(num,num_sqrt) )\n"
      ],
      "metadata": {
        "colab": {
          "base_uri": "https://localhost:8080/"
        },
        "id": "850Afx6h-_Py",
        "outputId": "b37cd540-8ca0-44fb-ef44-b7821c5eae57"
      },
      "execution_count": 15,
      "outputs": [
        {
          "output_type": "stream",
          "name": "stdout",
          "text": [
            "the square root of 8.000 is 2.828\n"
          ]
        }
      ]
    },
    {
      "cell_type": "code",
      "source": [
        "import cmath\n",
        "num =1+2j\n",
        "num_sqrt= cmath.sqrt(num)\n",
        "print('the square root of{0}is{1:0.3f}+{2:0.3f}j'.format(num,num_sqrt.real,num_sqrt.imag))\n"
      ],
      "metadata": {
        "colab": {
          "base_uri": "https://localhost:8080/"
        },
        "id": "AQnXelBAACUi",
        "outputId": "52e098d0-9bd4-4df2-c74d-de5162ffde0e"
      },
      "execution_count": 16,
      "outputs": [
        {
          "output_type": "stream",
          "name": "stdout",
          "text": [
            "the square root of(1+2j)is1.272+0.786j\n"
          ]
        }
      ]
    },
    {
      "cell_type": "code",
      "source": [
        "a=5\n",
        "b=6\n",
        "c=7\n",
        "s=(a+b+c)/2\n",
        "area=(s*(s-a)*(s-b)*(s-c))**0.5\n",
        "print('the area of the triangle is %0.2f'%area)\n"
      ],
      "metadata": {
        "colab": {
          "base_uri": "https://localhost:8080/"
        },
        "id": "tndemQbaBpzb",
        "outputId": "9c204482-9851-4105-fb0a-7635265b0652"
      },
      "execution_count": 17,
      "outputs": [
        {
          "output_type": "stream",
          "name": "stdout",
          "text": [
            "the area of the triangle is 14.70\n"
          ]
        }
      ]
    },
    {
      "cell_type": "code",
      "source": [
        "x=5\n",
        "y=10\n",
        "temp=x\n",
        "x=y\n",
        "y=temp\n",
        "print('the valuen of x after swapping:{}'.format(x))\n",
        "print('the valueof y after swapping:{}'.format(y))"
      ],
      "metadata": {
        "id": "LlZHNvi1MGGF"
      },
      "execution_count": null,
      "outputs": []
    }
  ]
}