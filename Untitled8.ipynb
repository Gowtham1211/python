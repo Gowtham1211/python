{
  "nbformat": 4,
  "nbformat_minor": 0,
  "metadata": {
    "colab": {
      "name": "Untitled8.ipynb",
      "provenance": [],
      "authorship_tag": "ABX9TyM1J2A5rak+7w5mDwrLEQPK",
      "include_colab_link": true
    },
    "kernelspec": {
      "name": "python3",
      "display_name": "Python 3"
    },
    "language_info": {
      "name": "python"
    }
  },
  "cells": [
    {
      "cell_type": "markdown",
      "metadata": {
        "id": "view-in-github",
        "colab_type": "text"
      },
      "source": [
        "<a href=\"https://colab.research.google.com/github/Gowtham1211/python/blob/main/Untitled8.ipynb\" target=\"_parent\"><img src=\"https://colab.research.google.com/assets/colab-badge.svg\" alt=\"Open In Colab\"/></a>"
      ]
    },
    {
      "cell_type": "code",
      "execution_count": 2,
      "metadata": {
        "id": "BpFcKSyrcgYp"
      },
      "outputs": [],
      "source": [
        "def printme( str ):\n",
        "  \"this prints a passed string into this function\"\n",
        "  print (str)\n",
        "  return"
      ]
    },
    {
      "cell_type": "code",
      "source": [
        "def printme( str ):\n",
        "  \"this print a passed string into this function\"\n",
        "  print (str)\n",
        "  return;\n",
        "  printme(\"I'm first call to user defined function!\")\n",
        "  printme(\"again second call to same function \")\n"
      ],
      "metadata": {
        "id": "tEOf5JMWe0SA"
      },
      "execution_count": 5,
      "outputs": []
    },
    {
      "cell_type": "code",
      "source": [
        ""
      ],
      "metadata": {
        "id": "O_VwUzlPfzua"
      },
      "execution_count": null,
      "outputs": []
    }
  ]
}