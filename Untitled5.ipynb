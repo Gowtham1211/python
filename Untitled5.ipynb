{
  "nbformat": 4,
  "nbformat_minor": 0,
  "metadata": {
    "colab": {
      "name": "Untitled5.ipynb",
      "provenance": [],
      "authorship_tag": "ABX9TyOKTWV2M7VnB0zF0V+h8zXq",
      "include_colab_link": true
    },
    "kernelspec": {
      "name": "python3",
      "display_name": "Python 3"
    },
    "language_info": {
      "name": "python"
    }
  },
  "cells": [
    {
      "cell_type": "markdown",
      "metadata": {
        "id": "view-in-github",
        "colab_type": "text"
      },
      "source": [
        "<a href=\"https://colab.research.google.com/github/Gowtham1211/python/blob/main/Untitled5.ipynb\" target=\"_parent\"><img src=\"https://colab.research.google.com/assets/colab-badge.svg\" alt=\"Open In Colab\"/></a>"
      ]
    },
    {
      "cell_type": "code",
      "execution_count": 2,
      "metadata": {
        "colab": {
          "base_uri": "https://localhost:8080/"
        },
        "id": "-8n3lEuSV0Uc",
        "outputId": "f5019fb7-f89c-40d7-83a4-7f7cffb0b5f1"
      },
      "outputs": [
        {
          "output_type": "stream",
          "name": "stdout",
          "text": [
            "a= b= False\n",
            "a = False b = False\n"
          ]
        }
      ],
      "source": [
        "a=True\n",
        "b=False\n",
        "print('a=','b=',b)\n",
        "a=False;\n",
        "print('a =',a,'b =',b)"
      ]
    },
    {
      "cell_type": "code",
      "source": [
        "dividend, divisor = eval(input('please enter two numbers to divide:'))\n",
        "if divisor != 0:\n",
        "  print(dividend,'/',divisor,'=',dividend/divisor)\n"
      ],
      "metadata": {
        "colab": {
          "base_uri": "https://localhost:8080/"
        },
        "id": "Hs6YJIO4YKTH",
        "outputId": "411766b4-6078-4f58-b45b-8b9e679c1227"
      },
      "execution_count": 9,
      "outputs": [
        {
          "output_type": "stream",
          "name": "stdout",
          "text": [
            "please enter two numbers to divide:3,7\n",
            "3 / 7 = 0.42857142857142855\n"
          ]
        }
      ]
    },
    {
      "cell_type": "code",
      "source": [
        "dividend, divisor = eval(input('please enter two numbers to divide:'))\n",
        "if divisor != 0:\n",
        "  quotinet=dividend/divisor\n",
        "  print(dividend,'/',divisor,'=',dividend/divisor)\n",
        "print('program finished')\n",
        "\n"
      ],
      "metadata": {
        "colab": {
          "base_uri": "https://localhost:8080/"
        },
        "id": "P28dXTlTZ_e-",
        "outputId": "489723d0-e3b8-43c2-a72e-cf759a5dd24e"
      },
      "execution_count": 15,
      "outputs": [
        {
          "output_type": "stream",
          "name": "stdout",
          "text": [
            "please enter two numbers to divide:2,4\n",
            "2 / 4 = 0.5\n",
            "program finished\n"
          ]
        }
      ]
    },
    {
      "cell_type": "code",
      "source": [
        "dividend, divisor = eval(input('please enter two numbers to divide:'))\n",
        "if divisor != 0:\n",
        "  print(dividend,'/',divisor,'=',dividend/divisor)\n",
        "else:\n",
        "  print('Division by zero is not allowed')  \n"
      ],
      "metadata": {
        "colab": {
          "base_uri": "https://localhost:8080/"
        },
        "id": "Y00xR1rJbKA8",
        "outputId": "7b979ace-5e97-4f2b-f55f-71d843bb4ae0"
      },
      "execution_count": 16,
      "outputs": [
        {
          "output_type": "stream",
          "name": "stdout",
          "text": [
            "please enter two numbers to divide:3,5\n",
            "3 / 5 = 0.6\n"
          ]
        }
      ]
    },
    {
      "cell_type": "code",
      "source": [
        "value=eval(input(\"please enter an integer in the range 0...5: \"))\n",
        "if value < 0:\n",
        "  print(\"Too small\")\n",
        "else:\n",
        "    if value == 0:\n",
        "      print(\"zero\")\n",
        "    else:\n",
        "      if value == 1:\n",
        "       print(\"one\")\n",
        "      else:\n",
        "        if value == 2:\n",
        "          print(\"two\")\n",
        "        else:\n",
        "         if value == 3:\n",
        "          print(\"three\")\n",
        "         else:\n",
        "          if value == 4:\n",
        "           print(\"four\")\n",
        "          else:\n",
        "            if value == 5:\n",
        "             print(\"five\")\n",
        "            else:\n",
        "             print(\"Too large\")\n",
        "\n",
        "        \n"
      ],
      "metadata": {
        "colab": {
          "base_uri": "https://localhost:8080/"
        },
        "id": "UkYmSEp1blDP",
        "outputId": "597875ae-d672-46fe-e94b-dd87236ed0b7"
      },
      "execution_count": 17,
      "outputs": [
        {
          "output_type": "stream",
          "name": "stdout",
          "text": [
            "please enter an integer in the range 0...5: 4\n",
            "four\n"
          ]
        }
      ]
    },
    {
      "cell_type": "code",
      "source": [
        "value=eval(input(\"please enter an integer in the range 0...5: \"))\n",
        "if value < 0:\n",
        "    print(\"Too small\")\n",
        "elif value == 0:\n",
        "    print(\"zero\")\n",
        "elif value == 1:\n",
        "    print(\"one\")\n",
        "elif value == 2:\n",
        "    print(\"two\")\n",
        "elif value == 3:\n",
        "    print(\"three\")\n",
        "elif value == 4:\n",
        "    print(\"four\")\n",
        "elif value == 5:\n",
        "    print(\"five\")\n",
        "else:\n",
        "    print(\"Too large\")\n",
        "print(\"Done\")             \n"
      ],
      "metadata": {
        "colab": {
          "base_uri": "https://localhost:8080/"
        },
        "id": "f7QBGfrDeGV4",
        "outputId": "f0e1bdb4-7e8c-4905-bc30-4ccf6e99293f"
      },
      "execution_count": 18,
      "outputs": [
        {
          "output_type": "stream",
          "name": "stdout",
          "text": [
            "please enter an integer in the range 0...5: 3\n",
            "three\n",
            "Done\n"
          ]
        }
      ]
    }
  ]
}